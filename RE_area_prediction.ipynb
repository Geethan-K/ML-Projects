{
 "cells": [
  {
   "cell_type": "code",
   "execution_count": 4,
   "id": "23825065-a083-4461-9e67-f9cbb28a71f4",
   "metadata": {},
   "outputs": [],
   "source": [
    "import numpy as np\n",
    "\n",
    "y_predicted = np.array([1,1,0,0,1])\n",
    "y_true = np.array([0.3,0.7,1,0,0.5])"
   ]
  },
  {
   "cell_type": "code",
   "execution_count": 16,
   "id": "38e496e1-f31e-47c2-a7b5-f092d5235e7f",
   "metadata": {},
   "outputs": [],
   "source": [
    "# Actual definition of np.mean & np.abs fn in numpy :\n",
    "\n",
    "def MeanAbsoluteErr(y_true,y_predicted):\n",
    "    total_err = 0\n",
    "    for yt,yp in zip(y_true,y_predicted):\n",
    "        total_err += abs(yt - yp)\n",
    "    print(\"Total err:\", total_err)\n",
    "    \n",
    "    mae = total_err / len(y_true)\n",
    "    print(\"MAE\",mae)\n",
    "    return mae"
   ]
  },
  {
   "cell_type": "code",
   "execution_count": 17,
   "id": "9d32bfe2-027d-453f-856a-09712c826fd6",
   "metadata": {},
   "outputs": [
    {
     "name": "stdout",
     "output_type": "stream",
     "text": [
      "Total err: 2.5\n",
      "MAE 0.5\n"
     ]
    },
    {
     "data": {
      "text/plain": [
       "np.float64(0.5)"
      ]
     },
     "execution_count": 17,
     "metadata": {},
     "output_type": "execute_result"
    }
   ],
   "source": [
    "MeanAbsoluteErr(y_true,y_predicted)"
   ]
  },
  {
   "cell_type": "code",
   "execution_count": 15,
   "id": "b35d72c9-2b61-4b48-9c97-44ca87816df6",
   "metadata": {},
   "outputs": [
    {
     "data": {
      "text/plain": [
       "np.float64(0.5)"
      ]
     },
     "execution_count": 15,
     "metadata": {},
     "output_type": "execute_result"
    }
   ],
   "source": [
    "np.mean(np.abs(y_predicted - y_true))"
   ]
  }
 ],
 "metadata": {
  "kernelspec": {
   "display_name": "Python 3 (ipykernel)",
   "language": "python",
   "name": "python3"
  },
  "language_info": {
   "codemirror_mode": {
    "name": "ipython",
    "version": 3
   },
   "file_extension": ".py",
   "mimetype": "text/x-python",
   "name": "python",
   "nbconvert_exporter": "python",
   "pygments_lexer": "ipython3",
   "version": "3.12.4"
  }
 },
 "nbformat": 4,
 "nbformat_minor": 5
}
