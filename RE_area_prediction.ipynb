{
 "cells": [
  {
   "cell_type": "code",
   "execution_count": 3,
   "id": "4231306c-82eb-4cfa-9cb0-d7bbe9dead5e",
   "metadata": {},
   "outputs": [],
   "source": [
    "###  Gradient Descent python implementation\n",
    "import numpy as np\n",
    "\n",
    "def log_loss(y_true,y_predicted):\n",
    "    epsilon = 1e-15\n",
    "    y_predicted_new = [max(i,epsilon) for i in y_predicted]\n",
    "    y_predicted_new = [min(i,1-epsilon) for i in y_predicted_new]\n",
    "    y_predicted_new = np.array(y_predicted_new)\n",
    "    return -np.mean( y_true*np.log(y_predicted_new) + (1-y_true)*np.log(1-y_predicted_new))"
   ]
  },
  {
   "cell_type": "code",
   "execution_count": 4,
   "id": "3ecdbb3e-48a3-48a0-bd29-33fb74709947",
   "metadata": {},
   "outputs": [
    {
     "data": {
      "text/plain": [
       "array([0.99999386, 0.5       , 0.73105858])"
      ]
     },
     "execution_count": 4,
     "metadata": {},
     "output_type": "execute_result"
    }
   ],
   "source": [
    "def sigmoid_numpy(x):\n",
    "    return 1/(1+np.exp(-x))\n",
    "    \n",
    "sigmoid_numpy(np.array([12,0,1]))"
   ]
  },
  {
   "cell_type": "code",
   "execution_count": 5,
   "id": "7ab57c39-7ead-47b5-aa12-6875232fc647",
   "metadata": {},
   "outputs": [],
   "source": [
    "### to find w1 , w2 , bias \n",
    "def gradient_descent(age , affordability , y_true,epochs):\n",
    "    w1 = w2 = 1\n",
    "    bias = 0\n",
    "    #learning rate\n",
    "    rate = 0.5\n",
    "    n = len(age)\n",
    "\n",
    "    for i in range(epochs):\n",
    "        weighted_sum = w1 * age + w2 * affordability + bias\n",
    "        y_predicted = sigmoid_numpy(weighted_sum)\n",
    "        loss = log_loss(y_true,y_predicted)\n",
    "        \n",
    "        w1_derivative = (1/n) * np.dot(np.transpose(age),(y_predicted-y_true))\n",
    "        w2_derivative = (1/n) * np.dot(np.transpose(affordability),(y_predicted-y_true))\n",
    "        bias_derivative = np.mean(y_predicted-y_true)\n",
    "\n",
    "        w1 = w1 - rate * w1d\n",
    "        w2 = w2 - rate * w2d\n",
    "        bias = bias - rate * bias_d\n",
    "\n",
    "        print(f'Epoch:{i}, w1:{w1} , w2:{w2}, bias:{bias}, loss{loss}' )"
   ]
  },
  {
   "cell_type": "code",
   "execution_count": null,
   "id": "703e2c46-fc2f-425c-9486-addf404571f0",
   "metadata": {},
   "outputs": [],
   "source": []
  }
 ],
 "metadata": {
  "kernelspec": {
   "display_name": "Python 3 (ipykernel)",
   "language": "python",
   "name": "python3"
  },
  "language_info": {
   "codemirror_mode": {
    "name": "ipython",
    "version": 3
   },
   "file_extension": ".py",
   "mimetype": "text/x-python",
   "name": "python",
   "nbconvert_exporter": "python",
   "pygments_lexer": "ipython3",
   "version": "3.12.4"
  }
 },
 "nbformat": 4,
 "nbformat_minor": 5
}
