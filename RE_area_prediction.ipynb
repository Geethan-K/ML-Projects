{
 "cells": [
  {
   "cell_type": "code",
   "execution_count": 2,
   "id": "9e21b6cf-f53f-4a9f-b9e9-51e35841b903",
   "metadata": {},
   "outputs": [],
   "source": [
    "## This is a example how log loss err function works\n",
    "## formula ----> -1/n £ yi.ln(y^i) + (1-yi).ln(1-y^i)\n",
    "## note : log(0) gives output as undefined , convert to nearest values wherever possible \n",
    "## i.e 0 ---> 0.00000000001 (close to 0 but not 0) and 1 ---> 0.9999999999999 (close to 1 but not 1)\n",
    "import numpy as np\n",
    "\n",
    "y_predicted = np.array([1,1,0,0,1])\n",
    "y_true = np.array([0.3,0.7,1,0,0.5])\n"
   ]
  },
  {
   "cell_type": "code",
   "execution_count": 3,
   "id": "7192746b-f84d-4847-9246-86ed3fdaef1c",
   "metadata": {},
   "outputs": [],
   "source": [
    "# 1e-5 --> 1 * 10^-5 ==> 0.000001\n",
    "\n",
    "epsilon = 1e-15"
   ]
  },
  {
   "cell_type": "code",
   "execution_count": 4,
   "id": "40e69ab3-3a40-4058-abe0-3b73e33259bd",
   "metadata": {},
   "outputs": [
    {
     "data": {
      "text/plain": [
       "[np.int64(1), np.int64(1), 1e-15, 1e-15, np.int64(1)]"
      ]
     },
     "execution_count": 4,
     "metadata": {},
     "output_type": "execute_result"
    }
   ],
   "source": [
    "y_predicted_new = [max(i,epsilon) for i in y_predicted]\n",
    "y_predicted_new"
   ]
  },
  {
   "cell_type": "code",
   "execution_count": 5,
   "id": "c7a513dc-0914-4827-96cf-716b52e2626c",
   "metadata": {},
   "outputs": [
    {
     "data": {
      "text/plain": [
       "[0.999999999999999, 0.999999999999999, 1e-15, 1e-15, 0.999999999999999]"
      ]
     },
     "execution_count": 5,
     "metadata": {},
     "output_type": "execute_result"
    }
   ],
   "source": [
    " # since 1-1 gives 0  , (accord. to our formula) we need to convert 1 -->closer to 1\n",
    "y_predicted_new = [min(i,1-epsilon) for i in y_predicted_new]\n",
    "y_predicted_new"
   ]
  },
  {
   "cell_type": "code",
   "execution_count": 6,
   "id": "7ca178ca-54c3-4753-a3ec-ab396259323c",
   "metadata": {},
   "outputs": [
    {
     "name": "stderr",
     "output_type": "stream",
     "text": [
      "C:\\Users\\91934\\AppData\\Local\\Temp\\ipykernel_26292\\2433357124.py:2: RuntimeWarning: divide by zero encountered in log\n",
      "  np.log(y_predicted)\n"
     ]
    },
    {
     "data": {
      "text/plain": [
       "array([  0.,   0., -inf, -inf,   0.])"
      ]
     },
     "execution_count": 6,
     "metadata": {},
     "output_type": "execute_result"
    }
   ],
   "source": [
    "## Getting infinite values\n",
    "np.log(y_predicted)"
   ]
  },
  {
   "cell_type": "code",
   "execution_count": 10,
   "id": "dcea1ef8-be4d-4f08-9542-43b1b45a3eef",
   "metadata": {},
   "outputs": [
    {
     "data": {
      "text/plain": [
       "array([-9.99200722e-16, -9.99200722e-16, -3.45387764e+01, -3.45387764e+01,\n",
       "       -9.99200722e-16])"
      ]
     },
     "execution_count": 10,
     "metadata": {},
     "output_type": "execute_result"
    }
   ],
   "source": [
    "y_predicted_new = np.array(y_predicted_new)\n",
    "np.log(y_predicted_new)"
   ]
  },
  {
   "cell_type": "code",
   "execution_count": 11,
   "id": "152b038d-6dde-416c-ab90-18f33b5c890c",
   "metadata": {},
   "outputs": [
    {
     "data": {
      "text/plain": [
       "np.float64(17.2696280766844)"
      ]
     },
     "execution_count": 11,
     "metadata": {},
     "output_type": "execute_result"
    }
   ],
   "source": [
    "- np.mean(y_true * np.log(y_predicted_new)+(1-y_true)*np.log(1-y_predicted_new) )"
   ]
  },
  {
   "cell_type": "code",
   "execution_count": null,
   "id": "35cfb789-7619-4398-84a4-8d04a169dc66",
   "metadata": {},
   "outputs": [],
   "source": [
    "def Log_Loss(y_true,y_predicted):\n",
    "    epsilon = 1e-15\n",
    "    y_predicted_new = [max(i,epsilon) for i in y_predicted]\n",
    "    y_predicted_new = [min(i,1-epsilon) for i in y_predicted_new]\n",
    "    y_predicted_new = np.array(y_predicted_new)\n",
    "    return -np.mean(y_true*np."
   ]
  }
 ],
 "metadata": {
  "kernelspec": {
   "display_name": "Python 3 (ipykernel)",
   "language": "python",
   "name": "python3"
  },
  "language_info": {
   "codemirror_mode": {
    "name": "ipython",
    "version": 3
   },
   "file_extension": ".py",
   "mimetype": "text/x-python",
   "name": "python",
   "nbconvert_exporter": "python",
   "pygments_lexer": "ipython3",
   "version": "3.12.4"
  }
 },
 "nbformat": 4,
 "nbformat_minor": 5
}
