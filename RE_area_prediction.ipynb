{
 "cells": [
  {
   "cell_type": "code",
   "execution_count": 35,
   "id": "e125e05c-55a4-4bef-bb3b-9732166cca3b",
   "metadata": {},
   "outputs": [
    {
     "data": {
      "text/html": [
       "<div>\n",
       "<style scoped>\n",
       "    .dataframe tbody tr th:only-of-type {\n",
       "        vertical-align: middle;\n",
       "    }\n",
       "\n",
       "    .dataframe tbody tr th {\n",
       "        vertical-align: top;\n",
       "    }\n",
       "\n",
       "    .dataframe thead th {\n",
       "        text-align: right;\n",
       "    }\n",
       "</style>\n",
       "<table border=\"1\" class=\"dataframe\">\n",
       "  <thead>\n",
       "    <tr style=\"text-align: right;\">\n",
       "      <th></th>\n",
       "      <th>age</th>\n",
       "      <th>affordibility</th>\n",
       "      <th>bought_insurance</th>\n",
       "    </tr>\n",
       "  </thead>\n",
       "  <tbody>\n",
       "    <tr>\n",
       "      <th>0</th>\n",
       "      <td>22</td>\n",
       "      <td>1</td>\n",
       "      <td>0</td>\n",
       "    </tr>\n",
       "    <tr>\n",
       "      <th>1</th>\n",
       "      <td>25</td>\n",
       "      <td>0</td>\n",
       "      <td>0</td>\n",
       "    </tr>\n",
       "    <tr>\n",
       "      <th>2</th>\n",
       "      <td>47</td>\n",
       "      <td>1</td>\n",
       "      <td>1</td>\n",
       "    </tr>\n",
       "  </tbody>\n",
       "</table>\n",
       "</div>"
      ],
      "text/plain": [
       "   age  affordibility  bought_insurance\n",
       "0   22              1                 0\n",
       "1   25              0                 0\n",
       "2   47              1                 1"
      ]
     },
     "execution_count": 35,
     "metadata": {},
     "output_type": "execute_result"
    }
   ],
   "source": [
    "###  Gradient Descent python implementation\n",
    "import numpy as np\n",
    "import pandas as pd\n",
    "\n",
    "df = pd.read_csv('insurance_data.csv')\n",
    "\n",
    "def log_loss(y_true,y_predicted):\n",
    "    epsilon = 1e-15\n",
    "    y_predicted_new = [max(i,epsilon) for i in y_predicted]\n",
    "    y_predicted_new = [min(i,1-epsilon) for i in y_predicted_new]\n",
    "    y_predicted_new = np.array(y_predicted_new)\n",
    "    return -np.mean( y_true*np.log(y_predicted_new) + (1-y_true)*np.log(1-y_predicted_new))\n",
    "\n",
    "df.head(3)"
   ]
  },
  {
   "cell_type": "code",
   "execution_count": 36,
   "id": "b1bbdf1b-43fb-4252-81a0-9b53d4e72f70",
   "metadata": {},
   "outputs": [
    {
     "data": {
      "text/plain": [
       "array([0.99999386, 0.5       , 0.73105858])"
      ]
     },
     "execution_count": 36,
     "metadata": {},
     "output_type": "execute_result"
    }
   ],
   "source": [
    "def sigmoid_numpy(x):\n",
    "    return 1/(1+np.exp(-x))\n",
    "    \n",
    "sigmoid_numpy(np.array([12,0,1]))"
   ]
  },
  {
   "cell_type": "code",
   "execution_count": 37,
   "id": "a530d2c8-f1e8-48cd-b00c-44cfd8e2e1e7",
   "metadata": {},
   "outputs": [],
   "source": [
    "### to find w1 , w2 , bias \n",
    "def gradient_descent(age , affordability , y_true , epochs , loss_threshold):\n",
    "    w1 = w2 = 1\n",
    "    bias = 0\n",
    "    #learning rate\n",
    "    rate = 0.5\n",
    "    n = len(age)\n",
    "\n",
    "    for i in range(epochs):\n",
    "        weighted_sum = w1 * age + w2 * affordability + bias\n",
    "        y_predicted = sigmoid_numpy(weighted_sum)\n",
    "        loss = log_loss(y_true,y_predicted)\n",
    "        \n",
    "        w1_derivative = (1/n) * np.dot(np.transpose(age),(y_predicted-y_true))\n",
    "        w2_derivative = (1/n) * np.dot(np.transpose(affordability),(y_predicted-y_true))\n",
    "        bias_derivative = np.mean(y_predicted-y_true)\n",
    "\n",
    "        w1 = w1 - rate * w1_derivative\n",
    "        w2 = w2 - rate * w2_derivative\n",
    "        bias = bias - rate * bias_derivative\n",
    "\n",
    "        print(f'Epoch:{i}, w1:{w1} , w2:{w2}, bias:{bias}, loss{loss}' )\n",
    "\n",
    "        if loss <= loss_threshold:\n",
    "            break\n",
    "    \n",
    "    return w1,w2,bias"
   ]
  },
  {
   "cell_type": "code",
   "execution_count": 38,
   "id": "e2d86d5f-796b-4de7-adfe-68fa18343208",
   "metadata": {},
   "outputs": [
    {
     "data": {
      "text/html": [
       "<div>\n",
       "<style scoped>\n",
       "    .dataframe tbody tr th:only-of-type {\n",
       "        vertical-align: middle;\n",
       "    }\n",
       "\n",
       "    .dataframe tbody tr th {\n",
       "        vertical-align: top;\n",
       "    }\n",
       "\n",
       "    .dataframe thead th {\n",
       "        text-align: right;\n",
       "    }\n",
       "</style>\n",
       "<table border=\"1\" class=\"dataframe\">\n",
       "  <thead>\n",
       "    <tr style=\"text-align: right;\">\n",
       "      <th></th>\n",
       "      <th>age</th>\n",
       "      <th>affordibility</th>\n",
       "    </tr>\n",
       "  </thead>\n",
       "  <tbody>\n",
       "    <tr>\n",
       "      <th>0</th>\n",
       "      <td>0.22</td>\n",
       "      <td>1</td>\n",
       "    </tr>\n",
       "    <tr>\n",
       "      <th>13</th>\n",
       "      <td>0.29</td>\n",
       "      <td>0</td>\n",
       "    </tr>\n",
       "    <tr>\n",
       "      <th>6</th>\n",
       "      <td>0.55</td>\n",
       "      <td>0</td>\n",
       "    </tr>\n",
       "    <tr>\n",
       "      <th>17</th>\n",
       "      <td>0.58</td>\n",
       "      <td>1</td>\n",
       "    </tr>\n",
       "    <tr>\n",
       "      <th>24</th>\n",
       "      <td>0.50</td>\n",
       "      <td>1</td>\n",
       "    </tr>\n",
       "  </tbody>\n",
       "</table>\n",
       "</div>"
      ],
      "text/plain": [
       "     age  affordibility\n",
       "0   0.22              1\n",
       "13  0.29              0\n",
       "6   0.55              0\n",
       "17  0.58              1\n",
       "24  0.50              1"
      ]
     },
     "execution_count": 38,
     "metadata": {},
     "output_type": "execute_result"
    }
   ],
   "source": [
    "from sklearn.model_selection import train_test_split\n",
    "x_train,x_test,y_train,y_test = train_test_split(df[['age','affordibility']],df.bought_insurance,test_size=0.2,random_state=25)\n",
    "\n",
    "#### please refer these concepts from Neural_Networks/Gradinet_Descent\n",
    "\n",
    "x_train_scaled = x_train.copy()\n",
    "x_train_scaled['age'] = x_train_scaled['age']/100\n",
    "\n",
    "x_test_scaled = x_test.copy()\n",
    "x_test_scaled['age'] = x_test_scaled['age']/100\n",
    "\n",
    "x_train_scaled.head()"
   ]
  },
  {
   "cell_type": "code",
   "execution_count": 43,
   "id": "3bc4539a-5e11-406e-81aa-b91c98a1d177",
   "metadata": {},
   "outputs": [],
   "source": [
    "class my_Neural_Network():\n",
    "    def __init__(self):\n",
    "        self.w1 = 1\n",
    "        self.w2 = 2\n",
    "        self.bias = 0\n",
    "\n",
    "    ## gradient_descent fn returns w1 , w2 , bias\n",
    "    def fit(self , x , y , epochs , loss_thresold):\n",
    "        self.w1 , self.w2 , self.bias = self.gradient_descent( x['age'] , x['affordibility'] , y , epochs , loss_thresold)\n",
    "\n",
    "    \n",
    "    def predict(self, x_test):\n",
    "        weighted_sum = self.w1 * self.x_test['age'] + self.w2 * self.x_test['affordibility'] + self.bias\n",
    "        return sigmoid_numpy(weighted_sum)\n",
    "\n",
    "    ### to find w1 , w2 , bias \n",
    "    def gradient_descent(self,age , affordability , y_true , epochs , loss_threshold):\n",
    "        w1 = w2 = 1\n",
    "        bias = 0\n",
    "        #learning rate\n",
    "        rate = 0.5\n",
    "        n = len(age)\n",
    "    \n",
    "        for i in range(epochs):\n",
    "            weighted_sum = w1 * age + w2 * affordability + bias\n",
    "            y_predicted = sigmoid_numpy(weighted_sum)\n",
    "            loss = log_loss(y_true,y_predicted)\n",
    "            \n",
    "            w1_derivative = (1/n) * np.dot(np.transpose(age),(y_predicted-y_true))\n",
    "            w2_derivative = (1/n) * np.dot(np.transpose(affordability),(y_predicted-y_true))\n",
    "            bias_derivative = np.mean(y_predicted-y_true)\n",
    "    \n",
    "            w1 = w1 - rate * w1_derivative\n",
    "            w2 = w2 - rate * w2_derivative\n",
    "            bias = bias - rate * bias_derivative\n",
    "    \n",
    "            if i%50 == 0:\n",
    "                print(f'Epoch:{i}, w1:{w1} , w2:{w2}, bias:{bias}, loss{loss}' )\n",
    "    \n",
    "            if loss <= loss_threshold:\n",
    "                break\n",
    "        \n",
    "        return w1,w2,bias"
   ]
  },
  {
   "cell_type": "code",
   "execution_count": 44,
   "id": "9b0a1281-fa06-440b-833c-2bb6003f9ba2",
   "metadata": {},
   "outputs": [
    {
     "name": "stdout",
     "output_type": "stream",
     "text": [
      "Epoch:0, w1:0.974907633470177 , w2:0.948348125394529, bias:-0.11341867736368583, loss0.7113403233723417\n",
      "Epoch:50, w1:1.503319554173139 , w2:1.108384790367645, bias:-1.2319047301235464, loss0.5675865113475955\n",
      "Epoch:100, w1:2.200713131760032 , w2:1.2941584023238903, bias:-1.6607009122062801, loss0.5390680417774752\n",
      "Epoch:150, w1:2.8495727769689085 , w2:1.3696895491572747, bias:-1.986105845859897, loss0.5176462164249294\n",
      "Epoch:200, w1:3.443016970881804 , w2:1.404221862446503, bias:-2.2571369883752723, loss0.5005011269691375\n",
      "Epoch:250, w1:3.982450494649577 , w2:1.423912732932123, bias:-2.494377365971801, loss0.48654089537617085\n",
      "Epoch:300, w1:4.4721795220959155 , w2:1.438787986553552, bias:-2.7073878119223735, loss0.47508146406327934\n",
      "Epoch:350, w1:4.917245868007634 , w2:1.4525660781176122, bias:-2.901176333556766, loss0.46561475306999006\n"
     ]
    }
   ],
   "source": [
    "customModel = my_Neural_Network()\n",
    "customModel.fit(x_train_scaled , y_train , epochs=500 , loss_thresold=0.4631)"
   ]
  },
  {
   "cell_type": "code",
   "execution_count": null,
   "id": "f99a2257-e1e3-42ee-ba0b-1b257de97fa7",
   "metadata": {},
   "outputs": [],
   "source": [
    "#### Now compare these w1 , w2 , bias values with tensorflow's coef_ , intercept values \n",
    "##### which is already in Neural_Network/Gradient_Descent branch"
   ]
  }
 ],
 "metadata": {
  "kernelspec": {
   "display_name": "Python 3 (ipykernel)",
   "language": "python",
   "name": "python3"
  },
  "language_info": {
   "codemirror_mode": {
    "name": "ipython",
    "version": 3
   },
   "file_extension": ".py",
   "mimetype": "text/x-python",
   "name": "python",
   "nbconvert_exporter": "python",
   "pygments_lexer": "ipython3",
   "version": "3.12.4"
  }
 },
 "nbformat": 4,
 "nbformat_minor": 5
}
