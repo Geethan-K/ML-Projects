{
 "cells": [
  {
   "cell_type": "code",
   "execution_count": 1,
   "id": "801700ec-45b6-4e6a-a33a-bcf08fe54afd",
   "metadata": {},
   "outputs": [],
   "source": [
    "import pandas as pd\n",
    "import numpy as np\n",
    "from matplotlib import pyplot as plt\n",
    "%matplotlib inline"
   ]
  },
  {
   "cell_type": "code",
   "execution_count": 3,
   "id": "6ad7d096-a673-4fb9-ad76-d216b1233080",
   "metadata": {},
   "outputs": [
    {
     "data": {
      "text/html": [
       "<div>\n",
       "<style scoped>\n",
       "    .dataframe tbody tr th:only-of-type {\n",
       "        vertical-align: middle;\n",
       "    }\n",
       "\n",
       "    .dataframe tbody tr th {\n",
       "        vertical-align: top;\n",
       "    }\n",
       "\n",
       "    .dataframe thead th {\n",
       "        text-align: right;\n",
       "    }\n",
       "</style>\n",
       "<table border=\"1\" class=\"dataframe\">\n",
       "  <thead>\n",
       "    <tr style=\"text-align: right;\">\n",
       "      <th></th>\n",
       "      <th>area</th>\n",
       "      <th>bedrooms</th>\n",
       "      <th>price</th>\n",
       "    </tr>\n",
       "  </thead>\n",
       "  <tbody>\n",
       "    <tr>\n",
       "      <th>0</th>\n",
       "      <td>1056</td>\n",
       "      <td>2</td>\n",
       "      <td>39.07</td>\n",
       "    </tr>\n",
       "    <tr>\n",
       "      <th>1</th>\n",
       "      <td>2600</td>\n",
       "      <td>4</td>\n",
       "      <td>120.00</td>\n",
       "    </tr>\n",
       "    <tr>\n",
       "      <th>2</th>\n",
       "      <td>1440</td>\n",
       "      <td>3</td>\n",
       "      <td>62.00</td>\n",
       "    </tr>\n",
       "    <tr>\n",
       "      <th>3</th>\n",
       "      <td>1521</td>\n",
       "      <td>3</td>\n",
       "      <td>75.00</td>\n",
       "    </tr>\n",
       "    <tr>\n",
       "      <th>4</th>\n",
       "      <td>1200</td>\n",
       "      <td>2</td>\n",
       "      <td>51.00</td>\n",
       "    </tr>\n",
       "  </tbody>\n",
       "</table>\n",
       "</div>"
      ],
      "text/plain": [
       "   area  bedrooms   price\n",
       "0  1056         2   39.07\n",
       "1  2600         4  120.00\n",
       "2  1440         3   62.00\n",
       "3  1521         3   75.00\n",
       "4  1200         2   51.00"
      ]
     },
     "execution_count": 3,
     "metadata": {},
     "output_type": "execute_result"
    }
   ],
   "source": [
    "df = pd.read_csv(\"homeprices_banglore.csv\")\n",
    "df.head(5)"
   ]
  },
  {
   "cell_type": "code",
   "execution_count": 4,
   "id": "f8de07b2-0aad-442f-b384-3df6f55fc0ed",
   "metadata": {},
   "outputs": [
    {
     "data": {
      "text/plain": [
       "array([[0.08827586, 0.25      ],\n",
       "       [0.62068966, 0.75      ],\n",
       "       [0.22068966, 0.5       ],\n",
       "       [0.24862069, 0.5       ],\n",
       "       [0.13793103, 0.25      ],\n",
       "       [0.12758621, 0.25      ],\n",
       "       [0.6662069 , 0.75      ],\n",
       "       [0.86206897, 0.75      ],\n",
       "       [0.17586207, 0.5       ],\n",
       "       [1.        , 1.        ],\n",
       "       [0.34482759, 0.5       ],\n",
       "       [0.68448276, 0.75      ],\n",
       "       [0.06896552, 0.25      ],\n",
       "       [0.10344828, 0.25      ],\n",
       "       [0.5       , 0.5       ],\n",
       "       [0.12931034, 0.25      ],\n",
       "       [0.13103448, 0.5       ],\n",
       "       [0.25517241, 0.5       ],\n",
       "       [0.67931034, 0.5       ],\n",
       "       [0.        , 0.        ]])"
      ]
     },
     "execution_count": 4,
     "metadata": {},
     "output_type": "execute_result"
    }
   ],
   "source": [
    "from sklearn import preprocessing\n",
    "\n",
    "sx = preprocessing.MinMaxScaler()\n",
    "sy = preprocessing.MinMaxScaler()\n",
    "\n",
    "scaled_x = sx.fit_transform(df.drop('price',axis='columns'))\n",
    "scaled_x"
   ]
  },
  {
   "cell_type": "code",
   "execution_count": 5,
   "id": "f03b9282-aa23-49aa-bc44-61255c7491d5",
   "metadata": {},
   "outputs": [
    {
     "data": {
      "text/plain": [
       "array([[0.05237037],\n",
       "       [0.65185185],\n",
       "       [0.22222222],\n",
       "       [0.31851852],\n",
       "       [0.14074074],\n",
       "       [0.04444444],\n",
       "       [0.76296296],\n",
       "       [0.91111111],\n",
       "       [0.13333333],\n",
       "       [1.        ],\n",
       "       [0.37037037],\n",
       "       [0.8       ],\n",
       "       [0.04444444],\n",
       "       [0.05925926],\n",
       "       [0.51111111],\n",
       "       [0.07407407],\n",
       "       [0.11851852],\n",
       "       [0.20740741],\n",
       "       [0.51851852],\n",
       "       [0.        ]])"
      ]
     },
     "execution_count": 5,
     "metadata": {},
     "output_type": "execute_result"
    }
   ],
   "source": [
    "scaled_y = sy.fit_transform( df['price'].values.reshape(df.shape[0],1) )\n",
    "scaled_y"
   ]
  },
  {
   "cell_type": "code",
   "execution_count": 6,
   "id": "b25c477f-633b-4fd8-8217-c35575114271",
   "metadata": {},
   "outputs": [
    {
     "name": "stdout",
     "output_type": "stream",
     "text": [
      "single arr with 5 ones [1 1 1 1 1]\n",
      "4 by 2 arr with ones [[1 1]\n",
      " [1 1]\n",
      " [1 1]\n",
      " [1 1]]\n"
     ]
    },
    {
     "data": {
      "text/plain": [
       "array([1., 1.])"
      ]
     },
     "execution_count": 6,
     "metadata": {},
     "output_type": "execute_result"
    }
   ],
   "source": [
    "### some examples of small fn's\n",
    "### np.ones returns ones with given shape\n",
    "a = np.ones(5,dtype=int) \n",
    "print('single arr with 5 ones',a)\n",
    "b = np.ones([4,2], dtype=int)\n",
    "print('4 by 2 arr with ones', b)\n",
    "b.shape[0]\n",
    "\n",
    "np.ones(shape=(2))"
   ]
  },
  {
   "cell_type": "code",
   "execution_count": 7,
   "id": "aff6deaf-3d1e-44ec-b2fc-629b726457a5",
   "metadata": {},
   "outputs": [
    {
     "data": {
      "text/plain": [
       "(array([0.75550442, 0.41573953]),\n",
       " np.float64(-0.1168276956471586),\n",
       " np.float64(0.0034268126227234457))"
      ]
     },
     "execution_count": 7,
     "metadata": {},
     "output_type": "execute_result"
    }
   ],
   "source": [
    "def batch_gradient_descent( x , y_true , epochs , learning_rate = 0.1 ):\n",
    "    number_of_features = x.shape[1] ## gives no.of.columns (ie . 2)\n",
    "    weight = np.ones(shape=(number_of_features)) ### w = [1,1] \n",
    "    bias = 0\n",
    "    total_samples = x.shape[0]  ### no. of records / rows\n",
    "\n",
    "    cost_list = []\n",
    "    epoch_list = []\n",
    "    for i in range(epochs):\n",
    "        y_predicted = np.dot(weight, scaled_x.T) + bias  ### exactly our ML model - pls refer the note - w1 * area + w2 * bedrooms\n",
    "\n",
    "        ### since we know \n",
    "        ### w1 = w1 - learning rate * d/dw1\n",
    "        ### w2 = w2 - learning rate * d/dw2\n",
    "        ### bias = bias - learning rate * d/dw2\n",
    "\n",
    "        ## so , firstly we need to find the derivatives part\n",
    "\n",
    "        weight_derivative = -(2/total_samples)*(x.T.dot(y_true-y_predicted))\n",
    "        bias_derivative = -(2/total_samples)*np.sum(y_true-y_predicted)\n",
    "                                                                                                                                                                                                            \n",
    "        weight = weight - learning_rate * weight_derivative\n",
    "        bias = bias - learning_rate * bias_derivative\n",
    "\n",
    "        cost = np.mean(np.square(y_true-y_predicted))\n",
    "\n",
    "        if i % 10==0:  ### for each 10 , 20 , 30 th iterations i need to record these points to plot as graphs\n",
    "            cost_list.append(cost)\n",
    "            epoch_list.append(i)\n",
    "    return weight , bias , cost , cost_list , epoch_list\n",
    "\n",
    "weight , bias , cost , cost_list , epoch_list = batch_gradient_descent( scaled_x , scaled_y.reshape(scaled_y.shape[0],),500)\n",
    "weight , bias , cost\n"
   ]
  },
  {
   "cell_type": "code",
   "execution_count": 8,
   "id": "fc5a3d2a-5758-4815-8501-d1a9018adf54",
   "metadata": {},
   "outputs": [
    {
     "data": {
      "text/plain": [
       "[<matplotlib.lines.Line2D at 0x18f7fd879b0>]"
      ]
     },
     "execution_count": 8,
     "metadata": {},
     "output_type": "execute_result"
    },
    {
     "data": {
      "image/png": "[encoded data removed]",
      "text/plain": [
       "<Figure size 640x480 with 1 Axes>"
      ]
     },
     "metadata": {},
     "output_type": "display_data"
    }
   ],
   "source": [
    "plt.xlabel(\"epoch\")\n",
    "plt.ylabel(\"cost\")\n",
    "plt.plot(epoch_list , cost_list)"
   ]
  },
  {
   "cell_type": "code",
   "execution_count": null,
   "id": "961581c3-57dc-45ed-a5dc-eea9804eed4e",
   "metadata": {},
   "outputs": [],
   "source": [
    "#### as we can see cost funtion is initially high , but decreases as epoch value increases ."
   ]
  },
  {
   "cell_type": "code",
   "execution_count": 14,
   "id": "d6a9e34d-477f-4eed-8f55-6c4b2d459bdf",
   "metadata": {},
   "outputs": [],
   "source": [
    "#### now we need to implement prediction fn.\n",
    "### but before that , we see uses of some small  functions ."
   ]
  },
  {
   "cell_type": "code",
   "execution_count": 9,
   "id": "e7c38951-dba1-46cd-b7ba-0df3e11ff171",
   "metadata": {},
   "outputs": [
    {
     "name": "stderr",
     "output_type": "stream",
     "text": [
      "C:\\Python312\\Lib\\site-packages\\sklearn\\utils\\validation.py:2739: UserWarning: X does not have valid feature names, but MinMaxScaler was fitted with feature names\n",
      "  warnings.warn(\n"
     ]
    },
    {
     "data": {
      "text/plain": [
       "array([[0.62068966, 0.75      ]])"
      ]
     },
     "execution_count": 9,
     "metadata": {},
     "output_type": "execute_result"
    }
   ],
   "source": [
    "sx ## x axis data --> area , bedrooms\n",
    "sx.transform([[2600,4]]) ## this fn will transform area , bedroom values b/w 0 & 1 ."
   ]
  },
  {
   "cell_type": "code",
   "execution_count": 10,
   "id": "5383d031-e7e1-47e3-b4ff-28ba0ab68994",
   "metadata": {},
   "outputs": [
    {
     "data": {
      "text/plain": [
       "array([0.75550442, 0.41573953])"
      ]
     },
     "execution_count": 10,
     "metadata": {},
     "output_type": "execute_result"
    }
   ],
   "source": [
    "weight  ### weights ie w1 , w2 ."
   ]
  },
  {
   "cell_type": "code",
   "execution_count": 11,
   "id": "f0d19888-3dd3-4bea-a937-8d57f8204347",
   "metadata": {},
   "outputs": [
    {
     "data": {
      "text/plain": [
       "array([[167. ,  99.5,  32. ]])"
      ]
     },
     "execution_count": 11,
     "metadata": {},
     "output_type": "execute_result"
    }
   ],
   "source": [
    "sy ### y axis data i.e price\n",
    "## 1 is the max price\n",
    "## 0.5 is median price\n",
    "## 0 is the min price\n",
    "# inverse transform will transform 0 --> 1 decimal values with actual price .\n",
    "sy.inverse_transform([[1,0.5,0]]) "
   ]
  },
  {
   "cell_type": "code",
   "execution_count": 12,
   "id": "1ad32869-6356-46f9-810f-2f2aa4560099",
   "metadata": {},
   "outputs": [],
   "source": [
    "### Let's create the predict function now :\n",
    "\n",
    "def predict( area , bedroom , weight , bias):\n",
    "    scaled_x = sx.transform([[area,bedroom]])[0]\n",
    "\n",
    "    scaled_price = weight[0] * scaled_x[0] + weight[1] * scaled_x[1] + bias\n",
    "    return sy.inverse_transform([[scaled_price]])[0][0]\n",
    "    "
   ]
  },
  {
   "cell_type": "code",
   "execution_count": 13,
   "id": "3f92b466-6f65-4bbd-8c44-f4ea20331816",
   "metadata": {},
   "outputs": [
    {
     "name": "stderr",
     "output_type": "stream",
     "text": [
      "C:\\Python312\\Lib\\site-packages\\sklearn\\utils\\validation.py:2739: UserWarning: X does not have valid feature names, but MinMaxScaler was fitted with feature names\n",
      "  warnings.warn(\n"
     ]
    },
    {
     "data": {
      "text/plain": [
       "np.float64(121.6279485426776)"
      ]
     },
     "execution_count": 13,
     "metadata": {},
     "output_type": "execute_result"
    }
   ],
   "source": [
    "predict(2600,4,weight,bias)"
   ]
  },
  {
   "cell_type": "code",
   "execution_count": 14,
   "id": "12b562a9-35bb-4715-9b5d-eff349b150f0",
   "metadata": {},
   "outputs": [
    {
     "name": "stderr",
     "output_type": "stream",
     "text": [
      "C:\\Python312\\Lib\\site-packages\\sklearn\\utils\\validation.py:2739: UserWarning: X does not have valid feature names, but MinMaxScaler was fitted with feature names\n",
      "  warnings.warn(\n"
     ]
    },
    {
     "data": {
      "text/plain": [
       "np.float64(37.293476976103996)"
      ]
     },
     "execution_count": 14,
     "metadata": {},
     "output_type": "execute_result"
    }
   ],
   "source": [
    "predict(1000,2,weight,bias)"
   ]
  },
  {
   "cell_type": "code",
   "execution_count": 15,
   "id": "2c41f064-b0e1-414f-a2f5-36accb158052",
   "metadata": {},
   "outputs": [
    {
     "data": {
      "text/plain": [
       "6"
      ]
     },
     "execution_count": 15,
     "metadata": {},
     "output_type": "execute_result"
    }
   ],
   "source": [
    "### random.randint function randomly generates integers \n",
    "import random\n",
    "random.randint(0,6)"
   ]
  },
  {
   "cell_type": "code",
   "execution_count": 33,
   "id": "d1845a19-fe2a-49a6-a5b7-4da487071edd",
   "metadata": {},
   "outputs": [
    {
     "data": {
      "text/plain": [
       "(array([0.70899318, 0.6774664 ]),\n",
       " np.float64(-0.23564439538718152),\n",
       " np.float64(0.0005213191009568282))"
      ]
     },
     "execution_count": 33,
     "metadata": {},
     "output_type": "execute_result"
    }
   ],
   "source": [
    "### Let's implement stochastic gradient descent\n",
    "\n",
    "def stochastic_gradient_descent( x , y_true , epochs , learning_rate = 0.01):\n",
    "    \n",
    "    number_of_features = x.shape[1]\n",
    "    weights = np.ones(shape=(number_of_features))\n",
    "    bias = 0\n",
    "    total_sample = x.shape[0]\n",
    "\n",
    "    cost_list = []\n",
    "    epoch_list = []\n",
    "\n",
    "    for i in range(epochs):\n",
    "        random_index = random.randint(0,total_sample-1)\n",
    "        sample_x = x[random_index]\n",
    "        sample_y = y_true[random_index]\n",
    "        y_predicted = np.dot(weights , sample_x.T) + bias\n",
    "\n",
    "        ### since this method is not using batch approach we have to run for every single record\n",
    "        weights_derivative = -(2/ total_sample) * (sample_x.T.dot(sample_y-y_predicted)) \n",
    "        bias_derivative = -(2/total_sample) * (sample_y-y_predicted)  ## since we are dealing with only 1 sample here , we are not using np.sum\n",
    "\n",
    "        weights = weights - learning_rate * weights_derivative\n",
    "        bias = bias - learning_rate * bias_derivative\n",
    "        cost = np.square(sample_y-y_predicted)\n",
    "\n",
    "        if i%100 == 0:\n",
    "            cost_list.append(cost)\n",
    "            epoch_list.append(i)\n",
    "    return weights , bias , cost , cost_list , epoch_list\n",
    "\n",
    "weight_sgd , bias_sgd , cost_sgd ,cost_list_sgd , epoch_list_sgd = stochastic_gradient_descent(scaled_x,scaled_y.reshape(scaled_y.shape[0],),10000)\n",
    "weight_sgd , bias_sgd , cost_sgd"
   ]
  },
  {
   "cell_type": "code",
   "execution_count": 34,
   "id": "d8c7b45c-16c9-48e4-a5fb-cd3e6dc08afb",
   "metadata": {},
   "outputs": [
    {
     "data": {
      "text/plain": [
       "(array([0.70899318, 0.6774664 ]),\n",
       " np.float64(-0.23564439538718152),\n",
       " np.float64(0.0005213191009568282))"
      ]
     },
     "execution_count": 34,
     "metadata": {},
     "output_type": "execute_result"
    }
   ],
   "source": [
    "weight_sgd , bias_sgd , cost_sgd"
   ]
  },
  {
   "cell_type": "code",
   "execution_count": 35,
   "id": "659a2f4f-4ae0-4f15-bcee-1effc103539c",
   "metadata": {},
   "outputs": [
    {
     "data": {
      "text/plain": [
       "[<matplotlib.lines.Line2D at 0x18f0e20d430>]"
      ]
     },
     "execution_count": 35,
     "metadata": {},
     "output_type": "execute_result"
    },
    {
     "data": {
      "image/png": "[encoded data removed]",
      "text/plain": [
       "<Figure size 640x480 with 1 Axes>"
      ]
     },
     "metadata": {},
     "output_type": "display_data"
    }
   ],
   "source": [
    "### Lets plot and see the graph for stochastic gradient descent\n",
    "\n",
    "plt.xlabel('epoch')\n",
    "plt.ylabel('cost')\n",
    "plt.plot(epoch_list_sgd , cost_list_sgd)"
   ]
  },
  {
   "cell_type": "code",
   "execution_count": 36,
   "id": "09659731-c2ef-4b90-abec-d5fba455a4e5",
   "metadata": {},
   "outputs": [
    {
     "data": {
      "text/plain": [
       "array([0.70899318, 0.6774664 ])"
      ]
     },
     "execution_count": 36,
     "metadata": {},
     "output_type": "execute_result"
    }
   ],
   "source": [
    "weight_sgd\n",
    "###predict(2600, 4 , weight_sgd , bias_sgd)"
   ]
  },
  {
   "cell_type": "code",
   "execution_count": 27,
   "id": "cb4f1e8e-aedc-4941-a507-dc9e0dd56ca0",
   "metadata": {},
   "outputs": [
    {
     "data": {
      "text/plain": [
       "array([-0.21110441, -0.13935849])"
      ]
     },
     "execution_count": 27,
     "metadata": {},
     "output_type": "execute_result"
    }
   ],
   "source": [
    "bias_sgd"
   ]
  },
  {
   "cell_type": "code",
   "execution_count": 22,
   "id": "d5de4331-cf77-442d-8e25-3f1f6698e987",
   "metadata": {},
   "outputs": [
    {
     "data": {
      "text/plain": [
       "array([0.75550442, 0.41573953])"
      ]
     },
     "execution_count": 22,
     "metadata": {},
     "output_type": "execute_result"
    }
   ],
   "source": [
    "weight"
   ]
  },
  {
   "cell_type": "code",
   "execution_count": 23,
   "id": "92ca6236-083a-4b5e-9bf6-6cad62f7479d",
   "metadata": {},
   "outputs": [
    {
     "data": {
      "text/plain": [
       "np.float64(-0.1168276956471586)"
      ]
     },
     "execution_count": 23,
     "metadata": {},
     "output_type": "execute_result"
    }
   ],
   "source": [
    "bias"
   ]
  },
  {
   "cell_type": "code",
   "execution_count": 37,
   "id": "90a963de-05ba-4bb8-8ee6-8c513058d095",
   "metadata": {},
   "outputs": [
    {
     "name": "stderr",
     "output_type": "stream",
     "text": [
      "C:\\Python312\\Lib\\site-packages\\sklearn\\utils\\validation.py:2739: UserWarning: X does not have valid feature names, but MinMaxScaler was fitted with feature names\n",
      "  warnings.warn(\n"
     ]
    },
    {
     "data": {
      "text/plain": [
       "np.float64(128.19021872706625)"
      ]
     },
     "execution_count": 37,
     "metadata": {},
     "output_type": "execute_result"
    }
   ],
   "source": [
    "predict(2600,4,weight_sgd,bias_sgd)"
   ]
  }
 ],
 "metadata": {
  "kernelspec": {
   "display_name": "Python 3 (ipykernel)",
   "language": "python",
   "name": "python3"
  },
  "language_info": {
   "codemirror_mode": {
    "name": "ipython",
    "version": 3
   },
   "file_extension": ".py",
   "mimetype": "text/x-python",
   "name": "python",
   "nbconvert_exporter": "python",
   "pygments_lexer": "ipython3",
   "version": "3.12.4"
  }
 },
 "nbformat": 4,
 "nbformat_minor": 5
}
